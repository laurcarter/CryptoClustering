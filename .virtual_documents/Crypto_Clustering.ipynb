# Import required libraries and dependencies
import pandas as pd
from sklearn.cluster import KMeans
from sklearn.decomposition import PCA
from sklearn.preprocessing import StandardScaler


#Turn off warning
import warnings
warnings.filterwarnings('ignore', category=FutureWarning)


# Load the data into a Pandas DataFrame and make the index the "coin_id" column.
market_data_df = pd.read_csv("Resources/crypto_market_data.csv", index_col="coin_id")

# Display sample data
market_data_df.head(10)


# Generate summary statistics
market_data_df.describe()





# Use the `StandardScaler()` module from scikit-learn to normalize the data from the CSV file
scaler = StandardScaler()
market_data_scaled = scaler.fit_transform(market_data_df)


# Create a DataFrame with the scaled data
market_data_scaled_df = pd.DataFrame(market_data_scaled, columns=market_data_df.columns)

# Copy the crypto names from the original data
crypto_names = market_data_df.index

# Set the coinid column as index
market_data_scaled_df.index = crypto_names

# Display sample data
market_data_scaled_df.head()





# Create a list with the number of k-values to try
# Use a range from 1 to 11
k_values = list(range(1, 12))

# Create an empty list to store the inertia values
inertia = []

# Create a for loop to compute the inertia with each possible value of k
# Inside the loop:
for k in k_values:
    # 1. Create a KMeans model using the loop counter for the n_clusters
    kmeans = KMeans(n_clusters=k, random_state=0)
    # 2. Fit the model to the data using the scaled DataFrame\
    kmeans.fit(market_data_scaled_df)
    # 3. Append the model.inertia_ to the inertia list
    inertia.append(kmeans.inertia_)

# Create a dictionary with the data to plot the Elbow curve
elbow_data = {"k": k_values, "inertia": inertia}

# Create a DataFrame with the data to plot the Elbow curve
elbow_df = pd.DataFrame(elbow_data)

# Display the DataFrame
elbow_df.head(10)


# Plot a line chart with all the inertia values computed with 
# the different values of k to visually identify the optimal value for k.
import matplotlib.pyplot as plt

# Plot a line chart with the inertia values computed for the different values of k
plt.plot(elbow_df['k'], elbow_df['inertia'], marker='o')
plt.xlabel('Number of clusters (k)')
plt.ylabel('Inertia')
plt.title('Elbow Curve to Identify Optimal k')
plt.grid(True)
plt.show()








# Initialize the K-Means model using the best value for k
kmeans_model = KMeans(n_clusters=4, random_state=0)


# Fit the K-Means model using the scaled data
kmeans_model.fit(market_data_scaled_df)


# Predict the clusters to group the cryptocurrencies using the scaled data
crypto_clusters = kmeans_model.predict(market_data_scaled_df)

# View the resulting array of cluster values.
print(crypto_clusters)


# Create a copy of the DataFrame
crypto_clustered_df = market_data_scaled_df.copy()


# Add a new column to the DataFrame with the predicted clusters
crypto_clustered_df['Cluster'] = crypto_clusters

# Display sample data
crypto_clustered_df.head()


# Create a scatter plot using Pandas plot by setting 
# `x="price_change_percentage_24h"` and `y="price_change_percentage_7d"`.
# Use "rainbow" for the color to better visualize the data.
crypto_clustered_df.plot.scatter(
    x="price_change_percentage_24h",
    y="price_change_percentage_7d",
    c="Cluster",
    colormap="rainbow",
    title="Cryptocurrency Clusters"
)





# Create a PCA model instance and set `n_components=3`.
pca = PCA(n_components=3)


# Use the PCA model with `fit_transform` on the original scaled DataFrame to reduce to three principal components.
pca_data = pca.fit_transform(market_data_scaled_df)

# View the first five rows of the DataFrame. 
print(pca_data[:5])


# Retrieve the explained variance to determine how much information  can be attributed to each principal component.
explained_variance = pca.explained_variance_ratio_
print(f"Explained variance per principal component: {explained_variance}")





# Create a new DataFrame with the PCA data.
# Note: The code for this step is provided for you
#I do not know where this code is supposed to be

# Creating a DataFrame with the PCA data
pca_df = pd.DataFrame(pca_data, columns=['PC1', 'PC2', 'PC3'])

# Copy the crypto names from the original data
crypto_names = market_data_df.index

# Set the coinid column as index
pca_df.index = crypto_names

# Display sample data
pca_df.head()





# Create a list with the number of k-values to try
# Use a range from 1 to 11
k_values = list(range(1, 12))

# Create an empty list to store the inertia values
inertia = []

# Create a for loop to compute the inertia with each possible value of k
# Inside the loop:
for k in k_values:
    # 1. Create a KMeans model using the loop counter for the n_clusters
    kmeans = KMeans(n_clusters=k, random_state=0)
    # 2. Fit the model to the data using PCA DataFrame.
    kmeans.fit(pca_df)
    # 3. Append the model.inertia_ to the inertia list
    inertia.append(kmeans.inertia_)

# Create a dictionary with the data to plot the Elbow curve
elbow_data = {'k': k_values, 'inertia': inertia}

# Create a DataFrame with the data to plot the Elbow curve
elbow_df = pd.DataFrame(elbow_data)

# Display the DataFrame
elbow_df.head(10)


# Plot a line chart with all the inertia values computed with 
# the different values of k to visually identify the optimal value for k.
elbow_df.plot.line(x='k', y='inertia', title='Elbow Curve', xticks=k_values)








# Initialize the K-Means model using the best value for k
kmeans_model = KMeans(n_clusters=4, random_state=0)


# Fit the K-Means model using the PCA data
kmeans_model.fit(pca_df)


# Predict the clusters to group the cryptocurrencies using the PCA data
crypto_clusters = kmeans_model.predict(pca_df)

# Print the resulting array of cluster values.
print(crypto_clusters)


# Create a copy of the DataFrame with the PCA data
pca_clustered_df = pca_df.copy()

# Add a new column to the DataFrame with the predicted clusters
pca_clustered_df['Cluster'] = crypto_clusters

# Display sample data
pca_clustered_df.head()


# Create a scatter plot using hvPlot by setting `x="PCA1"` and `y="PCA2"`. 
#The rubric says to use plot, but here it says to use hvPlot. The rubric also says PC1/PC2 instead, so I followed that.
pca_clustered_df.plot.scatter(
    x='PC1', 
    y='PC2', 
    c='Cluster', 
    colormap='rainbow', 
    title='Cryptocurrency Clusters (PCA)',
    colorbar=True
)





# Use the columns from the original scaled DataFrame as the index.
pca_weights_df = pd.DataFrame(pca.components_, columns=market_data_scaled_df.columns)
pca_weights_df.head()






